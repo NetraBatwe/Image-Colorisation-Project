{
  "cells": [
    {
      "cell_type": "markdown",
      "metadata": {
        "id": "view-in-github",
        "colab_type": "text"
      },
      "source": [
        "<a href=\"https://colab.research.google.com/github/NetraBatwe/Image-Colorisation-Project/blob/main/IC_Netra.ipynb\" target=\"_parent\"><img src=\"https://colab.research.google.com/assets/colab-badge.svg\" alt=\"Open In Colab\"/></a>"
      ]
    },
    {
      "cell_type": "code",
      "execution_count": 1,
      "metadata": {
        "id": "JcSiok6VhKAu"
      },
      "outputs": [],
      "source": [
        "import torch\n",
        "import torch.nn as nn\n",
        "import torch.nn.functional as f\n",
        "import torchvision\n",
        "import torchvision.models as models\n",
        "from torchvision import transforms,datasets\n",
        "import numpy as np\n",
        "from skimage.io import imread\n",
        "from skimage.color import rgb2lab, lab2rgb, rgb2gray\n",
        "from torchsummary import summary\n",
        "from skimage import io,color"
      ]
    },
    {
      "cell_type": "code",
      "execution_count": null,
      "metadata": {
        "id": "7OAxvkPvlU0P"
      },
      "outputs": [],
      "source": [
        "train_data = torchvision.datasets.Flowers102('data_dir',split=\"train\", download=True, transform=True)\n",
        "train_data = torchvision.datasets.Flowers102(root='./data',split=\"train\", download=True, \n",
        "transform=transforms.Compose([transforms.ToTensor(),transforms.Resize((256,256))]))\n",
        "train_dataloader = torch.utils.data.DataLoader(train_data, batch_size=60, shuffle=False)\n",
        "\n",
        "train_data2 = torchvision.datasets.Flowers102(root='./data',split=\"train\", download=True, \n",
        "transform=transforms.Compose([transforms.ToTensor(),transforms.Resize((256,256)),transforms.Grayscale()]))\n",
        "train_dataloader2 = torch.utils.data.DataLoader(train_data2, batch_size=60, shuffle=False)\n",
        "\n",
        "test_data = torchvision.datasets.Flowers102('data_dir',split=\"test\", download=True, transform=True)\n",
        "test_data = torchvision.datasets.Flowers102(root='./data',split=\"test\", download=True, \n",
        "transform=transforms.Compose([transforms.ToTensor(),transforms.Resize((256,256))]))\n",
        "test_dataloader = torch.utils.data.DataLoader(test_data, batch_size=60, shuffle=False)\n",
        "\n",
        "test_data2= torchvision.datasets.Flowers102(root='./data',split=\"test\", download=True, \n",
        "transform=transforms.Compose([transforms.ToTensor(),transforms.Resize((256,256)),transforms.Grayscale()]))\n",
        "test_dataloader2= torch.utils.data.DataLoader(test_data2, batch_size=60, shuffle=False)"
      ]
    },
    {
      "cell_type": "code",
      "execution_count": null,
      "metadata": {
        "id": "GuzFxmWJkzbX"
      },
      "outputs": [],
      "source": [
        "import matplotlib.pyplot as plt\n",
        "for data in train_dataloader:\n",
        "    img, _ = data\n",
        "    print(img.shape)\n",
        "    break\n",
        "for i, img in enumerate(img):\n",
        "    plt.imshow(img.T)\n",
        "    plt.show()\n",
        "    break\n"
      ]
    },
    {
      "cell_type": "code",
      "execution_count": null,
      "metadata": {
        "id": "kSYXnC5Wl8Vd"
      },
      "outputs": [],
      "source": [
        "DEVICE = torch.device(f'cuda:{0}' if torch.cuda.is_available() else 'cpu')\n",
        "print('Device:', DEVICE)"
      ]
    },
    {
      "cell_type": "code",
      "source": [
        "class ResNet(nn.Module):\n",
        "  def __init__(self, input_size=128):\n",
        "    super(ResNet, self).__init__()\n",
        "   \n",
        "\n",
        "    ## First half: ResNet\n",
        "    resnet = models.resnet18(num_classes=64) \n",
        "    # Change first conv layer to accept single-channel (grayscale) input\n",
        "    resnet.conv1.weight = nn.Parameter(resnet.conv1.weight.sum(dim=1).unsqueeze(1)) \n",
        "    # Extract midlevel features from ResNet-gray\n",
        "    self.midlevel_resnet = nn.Sequential(*list(resnet.children())[0:6])\n",
        "\n",
        "    ## Decoder\n",
        "    self.decoder = nn.Sequential(     \n",
        "      nn.Conv2d(128, 128, kernel_size=3, stride=1, padding=1),\n",
        "      nn.BatchNorm2d(128),\n",
        "      nn.ReLU(),\n",
        "      nn.Upsample(scale_factor=2),\n",
        "      nn.Conv2d(128, 64, kernel_size=3, stride=1, padding=1),\n",
        "      nn.BatchNorm2d(64),\n",
        "      nn.ReLU(),\n",
        "      nn.Conv2d(64, 64, kernel_size=3, stride=1, padding=1),\n",
        "      nn.BatchNorm2d(64),\n",
        "      nn.ReLU(),\n",
        "      nn.Upsample(scale_factor=2),\n",
        "      nn.Conv2d(64, 32, kernel_size=3, stride=1, padding=1),\n",
        "      nn.BatchNorm2d(32),\n",
        "      nn.ReLU(),\n",
        "      nn.Conv2d(32, 2, kernel_size=3, stride=1, padding=1),\n",
        "      nn.Upsample(scale_factor=2)\n",
        "    )\n",
        "\n",
        "  def forward(self, input):\n",
        "\n",
        "    # Pass input through ResNet-gray to extract features\n",
        "    midlevel_features = self.midlevel_resnet(input)\n",
        "\n",
        "    # Upsample to get colors\n",
        "    output = self.decoder(midlevel_features)\n",
        "    return output\n"
      ],
      "metadata": {
        "id": "WyT8vhODCb3O"
      },
      "execution_count": 5,
      "outputs": []
    },
    {
      "cell_type": "code",
      "source": [
        "num_epochs = 15\n",
        "batch_size = 60\n",
        "model = ResNet().to(DEVICE)\n",
        "criterion = torch.nn.MSELoss()\n",
        "optimizer = torch.optim.Adam(model.parameters(), lr=0.001)\n",
        "loss_list=[]"
      ],
      "metadata": {
        "id": "p3qarRsYDPvH"
      },
      "execution_count": 6,
      "outputs": []
    },
    {
      "cell_type": "code",
      "source": [
        "def dataset_lab(cls, resize):\n",
        "    def __getitem__(self, index):\n",
        "        pil_image, target = cls.__getitem__(self, index)\n",
        "        pil_image = resize(pil_image)\n",
        "        lab_image = color.rgb2lab(pil_image)\n",
        "        img = torch.from_numpy(lab_image).permute(2,0,1)\n",
        "        return img[0].unsqueeze(0) / 100, img[1:] / 128, target\n",
        "    return type(\n",
        "        cls.__name__,\n",
        "        (cls,),\n",
        "        {\n",
        "            \"__getitem__\": __getitem__,\n",
        "        }\n",
        "    )\n",
        "print(type(img))"
      ],
      "metadata": {
        "colab": {
          "base_uri": "https://localhost:8080/"
        },
        "id": "NBijrYaHZrN5",
        "outputId": "4a1e347a-2db6-4972-cc59-217c41f5a618"
      },
      "execution_count": 7,
      "outputs": [
        {
          "output_type": "stream",
          "name": "stdout",
          "text": [
            "<class 'torch.Tensor'>\n"
          ]
        }
      ]
    },
    {
      "cell_type": "code",
      "source": [
        "train_data=dataset_lab(torchvision.datasets.Flowers102,transforms.Resize((256,256)))\n",
        "data= train_data(\"./data_dir\")\n",
        "train_labdataloader = torch.utils.data.DataLoader(data ,batch_size=60, shuffle=True)"
      ],
      "metadata": {
        "id": "NMSowVL4Zzwo"
      },
      "execution_count": 8,
      "outputs": []
    },
    {
      "cell_type": "code",
      "source": [
        "for epoch in range(1,20):\n",
        "    # monitor training loss\n",
        "    train_loss= 0.0    \n",
        "    for data in train_dataloader2:\n",
        "        img_gray,_=data\n",
        "        img_gray=img_gray.to(DEVICE).float()\n",
        "    for (img_l,img_ab,target) in (train_labdataloader):\n",
        "        img_l = img_l.to(DEVICE)\n",
        "        img_ab=img_ab.to(DEVICE).float()\n",
        "        outputs = model(img_gray)  \n",
        "        loss = criterion(outputs,img_ab)\n",
        "        loss.backward()\n",
        "        optimizer.step()\n",
        "        train_loss+= loss.item()   \n",
        "    train_loss= train_loss/len(train_labdataloader)\n",
        "\n",
        "    print('Epoch: {} \\tTraining Loss: {:.6f} '.format(epoch,train_loss))\n"
      ],
      "metadata": {
        "id": "RRl_Qq0esM0A"
      },
      "execution_count": null,
      "outputs": []
    },
    {
      "cell_type": "code",
      "source": [
        "for (img_l,img_ab,target) in (train_labdataloader):\n",
        "        img_l = img_l.to(DEVICE)\n",
        "        img_ab=img_ab.to(DEVICE) \n",
        "        plt.imshow(img_l[0].reshape(256,256))\n",
        "        print('l')\n",
        "        plt.imshow(img_ab[0][0])\n",
        "        break"
      ],
      "metadata": {
        "id": "_9yFo5vxXYeA"
      },
      "execution_count": null,
      "outputs": []
    },
    {
      "cell_type": "code",
      "source": [
        "for i in range (0,30,30):\n",
        "  plt.figure(figsize=(15, 3))\n",
        "  for data in test_dataloader2:\n",
        "        images, _ = data\n",
        "        images = images.to(DEVICE)\n",
        "\n",
        "  for i, img in enumerate(images.cpu()):\n",
        "        if i >= 9: break\n",
        "        plt.subplot(2, 9, i+1)\n",
        "        img=img.resize(256,256)\n",
        "        plt.imshow(img,cmap='gray')\n",
        "\n",
        "  with torch.no_grad():\n",
        "     outputs = model(images)\n",
        "  images=images*100\n",
        "  outputs=(outputs*128)\n",
        "  lab_image=torch.cat((images,outputs),1)\n",
        "  lab_image=lab_image.cpu().detach()\n",
        "  rgb_image = lab2rgb(lab_image.permute(0,2,3,1))\n",
        "\n",
        "  for data in test_dataloader:\n",
        "       original_images, _ = data\n",
        "       original_images = original_images.to(DEVICE)     \n",
        "    \n",
        "  for i, imgr in enumerate(rgb_image):\n",
        "        if i >= 9: break\n",
        "        plt.subplot(2, 9, 9+i+1) \n",
        "        plt.imshow(imgr)    "
      ],
      "metadata": {
        "id": "0gnN7sDZS1ej"
      },
      "execution_count": null,
      "outputs": []
    }
  ],
  "metadata": {
    "accelerator": "GPU",
    "colab": {
      "collapsed_sections": [],
      "provenance": [],
      "authorship_tag": "ABX9TyM0kAiRgw6PMQyfm9/B7MvN",
      "include_colab_link": true
    },
    "kernelspec": {
      "display_name": "Python 3",
      "name": "python3"
    },
    "language_info": {
      "name": "python"
    }
  },
  "nbformat": 4,
  "nbformat_minor": 0
}